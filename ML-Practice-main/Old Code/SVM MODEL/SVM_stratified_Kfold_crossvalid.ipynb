{
 "cells": [
  {
   "cell_type": "code",
   "execution_count": 1,
   "id": "f407f32b-f6e3-400f-9bb0-533573c7cb2e",
   "metadata": {},
   "outputs": [],
   "source": [
    "import pandas as pd\n",
    "import numpy as np\n",
    "from sklearn.model_selection import train_test_split\n",
    "from sklearn.metrics import accuracy_score, precision_score, recall_score, f1_score, confusion_matrix\n",
    "import matplotlib.pyplot as plt\n",
    "from sklearn.svm import SVC\n",
    "\n",
    "from sklearn.model_selection import StratifiedKFold\n",
    "\n",
    "import warnings\n",
    "# Code was showing some warnings, from stack overflow optimal answer was to include this\n",
    "warnings.simplefilter(action='ignore', category=FutureWarning)"
   ]
  },
  {
   "cell_type": "code",
   "execution_count": 2,
   "id": "06cfb443-ee1e-4e26-a330-5ebb6daabd1d",
   "metadata": {},
   "outputs": [],
   "source": [
    "df= pd.read_csv(\"fetal_health.csv\")\n",
    "X = df.iloc[:, :-1]  \n",
    "y = df.iloc[:, -1]   \n"
   ]
  },
  {
   "cell_type": "code",
   "execution_count": 3,
   "id": "f3d5ed60-c655-4882-9e47-2cb4f0684add",
   "metadata": {},
   "outputs": [],
   "source": [
    "\n",
    "stratified_kfold = StratifiedKFold(n_splits=5)\n",
    "\n",
    "accuracy_scores = []\n",
    "precision_scores = []\n",
    "recall_scores = []\n",
    "f1_scores = []\n",
    "confusion_matrices = []  # To store confusion matrices\n",
    "\n"
   ]
  },
  {
   "cell_type": "code",
   "execution_count": 4,
   "id": "ee266134-54e6-4cb5-bceb-2da7b4ce9ebe",
   "metadata": {},
   "outputs": [
    {
     "name": "stdout",
     "output_type": "stream",
     "text": [
      "Mean Accuracy = 0.8231350455675228\n",
      "Mean Precision = 0.8231350455675228\n",
      "Mean Recall = 0.8231350455675228\n",
      "Mean F1-score = 0.8231350455675228\n",
      "Standard Deviation Accuracy = 0.07228417153505332\n",
      "Standard Deviation Precision = 0.07228417153505332\n",
      "Standard Deviation Recall = 0.07228417153505332\n",
      "Standard Deviation F1-score = 0.07228417153505333\n",
      "Confusion Matrix for Fold 1:\n",
      "[[300  27   4]\n",
      " [ 24  34   1]\n",
      " [  6   7  23]]\n",
      "Confusion Matrix for Fold 2:\n",
      "[[312  19   0]\n",
      " [ 17  30  12]\n",
      " [  6  12  17]]\n",
      "Confusion Matrix for Fold 3:\n",
      "[[331   0   0]\n",
      " [ 36  23   0]\n",
      " [  8   5  22]]\n",
      "Confusion Matrix for Fold 4:\n",
      "[[315   8   8]\n",
      " [ 31  20   8]\n",
      " [  2   0  33]]\n",
      "Confusion Matrix for Fold 5:\n",
      "[[230  72  29]\n",
      " [ 34  25   0]\n",
      " [  0   0  35]]\n"
     ]
    }
   ],
   "source": [
    "\n",
    "\n",
    "from sklearn.metrics import accuracy_score, precision_score, recall_score, f1_score\n",
    "\n",
    "for train_index, test_index in stratified_kfold.split(X, y):\n",
    "    X_train, X_test = X.iloc[train_index], X.iloc[test_index]\n",
    "    y_train, y_test = y.iloc[train_index], y.iloc[test_index]\n",
    "\n",
    "    svm_classifier = SVC(kernel='linear')  \n",
    "    svm_classifier.fit(X_train, y_train)\n",
    "\n",
    "    y_pred = svm_classifier.predict(X_test)\n",
    "\n",
    "    accuracy = accuracy_score(y_test, y_pred)\n",
    "    precision = precision_score(y_test, y_pred, average='micro')\n",
    "    recall = recall_score(y_test, y_pred, average='micro')\n",
    "    f1 = f1_score(y_test, y_pred, average='micro')\n",
    "\n",
    "    accuracy_scores.append(accuracy)\n",
    "    precision_scores.append(precision)\n",
    "    recall_scores.append(recall)\n",
    "    f1_scores.append(f1)\n",
    "    \n",
    "    confusion = confusion_matrix(y_test, y_pred)\n",
    "    confusion_matrices.append(confusion)\n",
    "    \n",
    "# Calculate and print the mean and standard deviation of metrics\n",
    "print(\"Mean Accuracy =\", np.mean(accuracy_scores))\n",
    "print(\"Mean Precision =\", np.mean(precision_scores))\n",
    "print(\"Mean Recall =\", np.mean(recall_scores))\n",
    "print(\"Mean F1-score =\", np.mean(f1_scores))\n",
    "\n",
    "print(\"Standard Deviation Accuracy =\", np.std(accuracy_scores))\n",
    "print(\"Standard Deviation Precision =\", np.std(precision_scores))\n",
    "print(\"Standard Deviation Recall =\", np.std(recall_scores))\n",
    "print(\"Standard Deviation F1-score =\", np.std(f1_scores))\n",
    "\n",
    "for i, confusion in enumerate(confusion_matrices):\n",
    "    print(f'Confusion Matrix for Fold {i + 1}:')\n",
    "    print(confusion)\n",
    "\n"
   ]
  },
  {
   "cell_type": "code",
   "execution_count": null,
   "id": "776ea2fd-a411-45a1-9e0c-59a674c2d28d",
   "metadata": {},
   "outputs": [],
   "source": []
  },
  {
   "cell_type": "code",
   "execution_count": 5,
   "id": "954884e0-ec23-4d1a-b36a-85496cb87437",
   "metadata": {},
   "outputs": [
    {
     "name": "stdout",
     "output_type": "stream",
     "text": [
      "Feature Importance Scores:\n",
      "[2.61919200e-01 1.77368755e-03 1.52940324e-02 5.36050691e-04\n",
      " 3.95730127e-04 6.56463269e-08 8.59609816e-05 1.68957195e+01\n",
      " 1.45339333e+01 5.29494011e+02 4.23579355e+01 1.72531418e+01\n",
      " 3.22287127e+00 1.27957858e-02 5.13797999e+00 5.46795895e-01\n",
      " 1.72059243e+00 1.58334943e+00 1.05026330e+00 1.21194002e+02\n",
      " 1.18517227e+01]\n"
     ]
    }
   ],
   "source": [
    "# data set had negative value, using log transform to make positive and Adding 1 in X, to prevent log value as infinite\n",
    "from sklearn.feature_selection import SelectKBest\n",
    "from sklearn.feature_selection import chi2\n",
    "\n",
    "X_log_transformed = np.log1p(X + 1)\n",
    "\n",
    "kbest = SelectKBest(score_func=chi2, k=5)\n",
    "X_new = kbest.fit_transform(X_log_transformed, y)\n",
    "\n",
    "feature_scores = kbest.scores_\n",
    "print(\"Feature Importance Scores:\")\n",
    "print(feature_scores)"
   ]
  },
  {
   "cell_type": "code",
   "execution_count": null,
   "id": "0babddfe-448b-439a-9a51-7bb3017df528",
   "metadata": {},
   "outputs": [],
   "source": [
    "from sklearn.model_selection import learning_curve\n",
    "\n",
    "train_sizes, train_scores, test_scores = learning_curve(svm_classifier, X, y, cv=5, train_sizes=np.linspace(0.1, 1.0, 10))\n",
    "\n",
    "plt.figure()\n",
    "plt.plot(train_sizes, np.mean(train_scores, axis=1), 'o-', label=\"Training score\")\n",
    "plt.plot(train_sizes, np.mean(test_scores, axis=1), 'o-', label=\"Cross-validation score\")\n",
    "plt.xlabel(\"Training examples\")\n",
    "plt.ylabel(\"Score\")\n",
    "plt.title(\"Learning Curve\")\n",
    "plt.legend(loc=\"best\")\n",
    "plt.show()"
   ]
  }
 ],
 "metadata": {
  "kernelspec": {
   "display_name": "Python 3 (ipykernel)",
   "language": "python",
   "name": "python3"
  },
  "language_info": {
   "codemirror_mode": {
    "name": "ipython",
    "version": 3
   },
   "file_extension": ".py",
   "mimetype": "text/x-python",
   "name": "python",
   "nbconvert_exporter": "python",
   "pygments_lexer": "ipython3",
   "version": "3.11.0"
  }
 },
 "nbformat": 4,
 "nbformat_minor": 5
}
