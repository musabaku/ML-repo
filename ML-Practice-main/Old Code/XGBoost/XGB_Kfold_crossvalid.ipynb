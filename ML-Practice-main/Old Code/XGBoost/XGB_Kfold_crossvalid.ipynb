{
 "cells": [
  {
   "cell_type": "code",
   "execution_count": 1,
   "id": "02c2df94-5a22-44a5-865f-51fcf586ed37",
   "metadata": {},
   "outputs": [],
   "source": [
    "import pandas as pd\n",
    "import numpy as np\n",
    "from sklearn.model_selection import train_test_split\n",
    "import xgboost as xgb\n",
    "from sklearn.model_selection import KFold\n",
    "from sklearn.model_selection import cross_val_predict\n",
    "from sklearn.metrics import accuracy_score, precision_score, recall_score, f1_score, confusion_matrix\n",
    "import matplotlib.pyplot as plt\n",
    "from sklearn.preprocessing import LabelEncoder\n",
    "\n",
    "import warnings\n",
    "# Code was showing some warnings, from stack overflow optimal answer was to include this\n",
    "warnings.simplefilter(action='ignore', category=FutureWarning)"
   ]
  },
  {
   "cell_type": "code",
   "execution_count": 2,
   "id": "180a8518-7420-48b2-ae1a-efb22b18009c",
   "metadata": {},
   "outputs": [],
   "source": [
    "df= pd.read_csv(\"fetal_health.csv\")\n",
    "X = df.iloc[:, :-1]  \n",
    "y = df.iloc[:, -1]   \n"
   ]
  },
  {
   "cell_type": "code",
   "execution_count": 3,
   "id": "0d4958f8-d3b4-46db-8cd0-44cdd6e30794",
   "metadata": {},
   "outputs": [],
   "source": [
    "\n",
    "\n",
    "le = LabelEncoder()\n",
    "\n",
    "y_encoded = le.fit_transform(y)\n",
    "\n",
    "n_splits = 5\n",
    "\n",
    "kf = KFold(n_splits=n_splits, shuffle=True, random_state=42)\n",
    "\n",
    "xgb_classifier = xgb.XGBClassifier()\n",
    "\n",
    "y_pred_decoded = cross_val_predict(xgb_classifier, X, y_encoded, cv=kf)\n",
    "\n",
    "y_pred = le.inverse_transform(y_pred_decoded)\n"
   ]
  },
  {
   "cell_type": "code",
   "execution_count": 4,
   "id": "b2c7671c-a81d-48b5-b04b-e2ef5c4a1bfc",
   "metadata": {},
   "outputs": [
    {
     "name": "stdout",
     "output_type": "stream",
     "text": [
      "Accuracy =  95.10818438381938 %\n",
      "Precision =  0.9510818438381938\n",
      "Recall =  0.9510818438381938\n",
      "F1-score =  0.9510818438381938\n",
      "Confusion Matrix:\n",
      "[[1621   28    6]\n",
      " [  52  238    5]\n",
      " [   5    8  163]]\n"
     ]
    }
   ],
   "source": [
    "\n",
    "\n",
    "\n",
    "print(\"Accuracy = \", accuracy_score(y, y_pred) * 100, \"%\")\n",
    "print(\"Precision = \", precision_score(y, y_pred,average='micro'))\n",
    "print(\"Recall = \", recall_score(y, y_pred,average='micro'))\n",
    "print(\"F1-score = \", f1_score(y, y_pred,average='micro'))\n",
    "\n",
    "confusion = confusion_matrix(y, y_pred)\n",
    "print('Confusion Matrix:')\n",
    "print(confusion)\n"
   ]
  },
  {
   "cell_type": "code",
   "execution_count": 5,
   "id": "9e87350c-b0a7-4597-88c9-f34d2d2a6edd",
   "metadata": {},
   "outputs": [
    {
     "name": "stdout",
     "output_type": "stream",
     "text": [
      "              precision    recall  f1-score   support\n",
      "\n",
      "         1.0       0.97      0.98      0.97      1655\n",
      "         2.0       0.87      0.81      0.84       295\n",
      "         3.0       0.94      0.93      0.93       176\n",
      "\n",
      "    accuracy                           0.95      2126\n",
      "   macro avg       0.92      0.90      0.91      2126\n",
      "weighted avg       0.95      0.95      0.95      2126\n",
      "\n"
     ]
    }
   ],
   "source": [
    "from sklearn.metrics import classification_report\n",
    "report = classification_report(y, y_pred)\n",
    "print(report)\n"
   ]
  },
  {
   "cell_type": "code",
   "execution_count": 6,
   "id": "b17634c2-7623-4387-a7be-d0956a7afdda",
   "metadata": {},
   "outputs": [
    {
     "name": "stdout",
     "output_type": "stream",
     "text": [
      "Feature Importance Scores:\n",
      "[2.61919200e-01 1.77368755e-03 1.52940324e-02 5.36050691e-04\n",
      " 3.95730127e-04 6.56463269e-08 8.59609816e-05 1.68957195e+01\n",
      " 1.45339333e+01 5.29494011e+02 4.23579355e+01 1.72531418e+01\n",
      " 3.22287127e+00 1.27957858e-02 5.13797999e+00 5.46795895e-01\n",
      " 1.72059243e+00 1.58334943e+00 1.05026330e+00 1.21194002e+02\n",
      " 1.18517227e+01]\n"
     ]
    }
   ],
   "source": [
    "# data set had negative value, using log transform to make positive and Adding 1 in X, to prevent log value as infinite\n",
    "from sklearn.feature_selection import SelectKBest\n",
    "from sklearn.feature_selection import chi2\n",
    "\n",
    "X_log_transformed = np.log1p(X + 1)\n",
    "\n",
    "kbest = SelectKBest(score_func=chi2, k=5)\n",
    "X_new = kbest.fit_transform(X_log_transformed, y)\n",
    "\n",
    "feature_scores = kbest.scores_\n",
    "print(\"Feature Importance Scores:\")\n",
    "print(feature_scores)"
   ]
  },
  {
   "cell_type": "code",
   "execution_count": 7,
   "id": "e6a619ff-175a-4bc2-b708-a122e151a5d4",
   "metadata": {},
   "outputs": [
    {
     "data": {
      "image/png": "[encoded data removed]",
      "text/plain": [
       "<Figure size 640x480 with 1 Axes>"
      ]
     },
     "metadata": {},
     "output_type": "display_data"
    }
   ],
   "source": [
    "from sklearn.model_selection import learning_curve\n",
    "\n",
    "train_sizes, train_scores, test_scores = learning_curve(xgb_classifier, X, y, cv=5, train_sizes=np.linspace(0.1, 1.0, 10))\n",
    "\n",
    "plt.figure()\n",
    "plt.plot(train_sizes, np.mean(train_scores, axis=1), 'o-', label=\"Training score\")\n",
    "plt.plot(train_sizes, np.mean(test_scores, axis=1), 'o-', label=\"Cross-validation score\")\n",
    "plt.xlabel(\"Training examples\")\n",
    "plt.ylabel(\"Score\")\n",
    "plt.title(\"Learning Curve\")\n",
    "plt.legend(loc=\"best\")\n",
    "plt.show()"
   ]
  }
 ],
 "metadata": {
  "kernelspec": {
   "display_name": "Python 3 (ipykernel)",
   "language": "python",
   "name": "python3"
  },
  "language_info": {
   "codemirror_mode": {
    "name": "ipython",
    "version": 3
   },
   "file_extension": ".py",
   "mimetype": "text/x-python",
   "name": "python",
   "nbconvert_exporter": "python",
   "pygments_lexer": "ipython3",
   "version": "3.11.0"
  }
 },
 "nbformat": 4,
 "nbformat_minor": 5
}
