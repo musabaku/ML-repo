{
 "cells": [
  {
   "cell_type": "code",
   "execution_count": 1,
   "id": "e224d670-bf8c-4375-94b7-268004537f1e",
   "metadata": {},
   "outputs": [],
   "source": [
    "import pandas as pd\n",
    "import numpy as np\n",
    "from sklearn.model_selection import train_test_split\n",
    "from sklearn.neighbors import KNeighborsClassifier\n",
    "from sklearn.model_selection import LeaveOneOut\n",
    "from sklearn.model_selection import learning_curve\n",
    "\n",
    "import warnings\n",
    "# Code was showing some warnings, from stack overflow optimal answer was to include this\n",
    "warnings.simplefilter(action='ignore', category=FutureWarning)"
   ]
  },
  {
   "cell_type": "code",
   "execution_count": 2,
   "id": "47e56534-389b-4081-88f3-db6a3fa026bf",
   "metadata": {},
   "outputs": [],
   "source": [
    "df= pd.read_csv(\"fetal_health.csv\")\n",
    "X = df.iloc[:, :-1].values\n",
    "y = df.iloc[:, -1].values\n",
    "\n"
   ]
  },
  {
   "cell_type": "code",
   "execution_count": 3,
   "id": "b43ba9a4-4368-4212-b95f-c028b6aae7fb",
   "metadata": {},
   "outputs": [],
   "source": [
    "loo = LeaveOneOut()\n",
    "loo_scores = [] "
   ]
  },
  {
   "cell_type": "code",
   "execution_count": 4,
   "id": "f77b521c-d9b1-446e-844d-2715fc8e03c9",
   "metadata": {},
   "outputs": [
    {
     "name": "stdout",
     "output_type": "stream",
     "text": [
      "Leave-One-Out CV Accuracy: 90.87488240827845 %\n",
      "Precision (Micro) = 0.9440263405456256\n",
      "Recall (Micro) = 0.9440263405456256\n",
      "F1-score (Micro) = 0.9440263405456256\n",
      "Accuracy = 0.0 %\n",
      "Precision (Micro) = 0.0\n",
      "Recall (Micro) = 0.0\n",
      "F1-score (Micro) = 0.0\n",
      "Confusion Matrix:\n",
      "[[1624   26    5]\n",
      " [  59  232    4]\n",
      " [  15   10  151]]\n",
      "Classification Report:\n",
      "              precision    recall  f1-score   support\n",
      "\n",
      "         1.0       0.96      0.98      0.97      1655\n",
      "         2.0       0.87      0.79      0.82       295\n",
      "         3.0       0.94      0.86      0.90       176\n",
      "\n",
      "    accuracy                           0.94      2126\n",
      "   macro avg       0.92      0.88      0.90      2126\n",
      "weighted avg       0.94      0.94      0.94      2126\n",
      "\n"
     ]
    }
   ],
   "source": [
    "import pandas as pd\n",
    "import numpy as np\n",
    "from sklearn.model_selection import LeaveOneOut\n",
    "from sklearn.neighbors import KNeighborsClassifier\n",
    "from sklearn.metrics import accuracy_score, precision_score, recall_score, f1_score, confusion_matrix, classification_report, roc_curve, auc\n",
    "import matplotlib.pyplot as plt\n",
    "\n",
    "for train_index, test_index in loo.split(X):\n",
    "    X_train, X_test = X[train_index], X[test_index]\n",
    "    y_train, y_test = y[train_index], y[test_index]\n",
    "\n",
    "    knn = KNeighborsClassifier(n_neighbors=3)\n",
    "    knn.fit(X_train, y_train)\n",
    "\n",
    "    y_pred = knn.predict(X_test)\n",
    "    loo_scores.append(y_pred[0] == y_test[0])\n",
    "\n",
    " \n",
    "accuracy = sum(loo_scores) / len(loo_scores)\n",
    "\n",
    "# Print accuracy\n",
    "print(\"Leave-One-Out CV Accuracy:\", accuracy * 100, \"%\")\n",
    "\n",
    "# Calculate precision, recall, and F1-score using average micro\n",
    "precision = precision_score(y, knn.predict(X), average='micro')\n",
    "recall = recall_score(y, knn.predict(X), average='micro')\n",
    "f1 = f1_score(y, knn.predict(X), average='micro')\n",
    "print(\"Precision (Micro) =\", precision)\n",
    "print(\"Recall (Micro) =\", recall)\n",
    "print(\"F1-score (Micro) =\", f1)\n",
    "\n",
    "from sklearn.metrics import accuracy_score, precision_score, recall_score, f1_score\n",
    "\n",
    "# Assuming you have y_test and y_pred\n",
    "print(\"Accuracy =\", accuracy_score(y_test, y_pred) * 100, \"%\")\n",
    "print(\"Precision (Micro) =\", precision_score(y_test, y_pred, average='micro'))\n",
    "print(\"Recall (Micro) =\", recall_score(y_test, y_pred, average='micro'))\n",
    "print(\"F1-score (Micro) =\", f1_score(y_test, y_pred, average='micro'))\n",
    "\n",
    "\n",
    "# Confusion Matrix\n",
    "conf_matrix = confusion_matrix(y, knn.predict(X))\n",
    "print(\"Confusion Matrix:\")\n",
    "print(conf_matrix)\n",
    "\n",
    "# Classification Report\n",
    "class_report = classification_report(y, knn.predict(X))\n",
    "print(\"Classification Report:\")\n",
    "print(class_report)\n",
    "\n",
    "\n"
   ]
  },
  {
   "cell_type": "code",
   "execution_count": 5,
   "id": "0614e71d-f0b8-40ba-92c4-c5d2339279b9",
   "metadata": {},
   "outputs": [
    {
     "name": "stdout",
     "output_type": "stream",
     "text": [
      "Feature Importance Scores:\n",
      "[2.61919200e-01 1.77368755e-03 1.52940324e-02 5.36050691e-04\n",
      " 3.95730127e-04 6.56463269e-08 8.59609816e-05 1.68957195e+01\n",
      " 1.45339333e+01 5.29494011e+02 4.23579355e+01 1.72531418e+01\n",
      " 3.22287127e+00 1.27957858e-02 5.13797999e+00 5.46795895e-01\n",
      " 1.72059243e+00 1.58334943e+00 1.05026330e+00 1.21194002e+02\n",
      " 1.18517227e+01]\n"
     ]
    }
   ],
   "source": [
    "# data set had negative value, using log transform to make positive and Adding 1 in X, to prevent log value as infinite\n",
    "from sklearn.feature_selection import SelectKBest\n",
    "from sklearn.feature_selection import chi2\n",
    "\n",
    "X_log_transformed = np.log1p(X + 1)\n",
    "\n",
    "kbest = SelectKBest(score_func=chi2, k=5)\n",
    "X_new = kbest.fit_transform(X_log_transformed, y)\n",
    "\n",
    "feature_scores = kbest.scores_\n",
    "print(\"Feature Importance Scores:\")\n",
    "print(feature_scores)"
   ]
  }
 ],
 "metadata": {
  "kernelspec": {
   "display_name": "Python 3 (ipykernel)",
   "language": "python",
   "name": "python3"
  },
  "language_info": {
   "codemirror_mode": {
    "name": "ipython",
    "version": 3
   },
   "file_extension": ".py",
   "mimetype": "text/x-python",
   "name": "python",
   "nbconvert_exporter": "python",
   "pygments_lexer": "ipython3",
   "version": "3.11.0"
  }
 },
 "nbformat": 4,
 "nbformat_minor": 5
}
