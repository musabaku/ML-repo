{
 "cells": [
  {
   "cell_type": "code",
   "execution_count": 1,
   "id": "f407f32b-f6e3-400f-9bb0-533573c7cb2e",
   "metadata": {},
   "outputs": [],
   "source": [
    "import pandas as pd\n",
    "import numpy as np\n",
    "from sklearn.model_selection import train_test_split\n",
    "from sklearn.neighbors import KNeighborsClassifier\n",
    "from sklearn.metrics import accuracy_score, precision_score, recall_score, f1_score, confusion_matrix\n",
    "import matplotlib.pyplot as plt\n",
    "from sklearn.model_selection import StratifiedKFold\n",
    "\n",
    "import warnings\n",
    "# Code was showing some warnings, from stack overflow optimal answer was to include this\n",
    "warnings.simplefilter(action='ignore', category=FutureWarning)"
   ]
  },
  {
   "cell_type": "code",
   "execution_count": 2,
   "id": "06cfb443-ee1e-4e26-a330-5ebb6daabd1d",
   "metadata": {},
   "outputs": [],
   "source": [
    "df= pd.read_csv(\"fetal_health.csv\")\n",
    "X = df.iloc[:, :-1]  \n",
    "y = df.iloc[:, -1]   \n"
   ]
  },
  {
   "cell_type": "code",
   "execution_count": 3,
   "id": "f3d5ed60-c655-4882-9e47-2cb4f0684add",
   "metadata": {},
   "outputs": [],
   "source": [
    "knn = KNeighborsClassifier(n_neighbors=4)\n",
    "\n",
    "stratified_kfold = StratifiedKFold(n_splits=5)\n",
    "\n",
    "accuracy_scores = []\n",
    "precision_scores = []\n",
    "recall_scores = []\n",
    "f1_scores = []\n",
    "confusion_matrices = []  # To store confusion matrices\n",
    "\n"
   ]
  },
  {
   "cell_type": "code",
   "execution_count": 4,
   "id": "ee266134-54e6-4cb5-bceb-2da7b4ce9ebe",
   "metadata": {},
   "outputs": [
    {
     "ename": "NameError",
     "evalue": "name 'fold' is not defined",
     "output_type": "error",
     "traceback": [
      "\u001b[1;31m---------------------------------------------------------------------------\u001b[0m",
      "\u001b[1;31mNameError\u001b[0m                                 Traceback (most recent call last)",
      "Cell \u001b[1;32mIn[4], line 28\u001b[0m\n\u001b[0;32m     25\u001b[0m     f1_scores\u001b[38;5;241m.\u001b[39mappend(f1)\n\u001b[0;32m     27\u001b[0m     confusion \u001b[38;5;241m=\u001b[39m confusion_matrix(y_test, y_pred)\n\u001b[1;32m---> 28\u001b[0m     \u001b[38;5;28mprint\u001b[39m(\u001b[38;5;124mf\u001b[39m\u001b[38;5;124m'\u001b[39m\u001b[38;5;124mConfusion Matrix for Fold \u001b[39m\u001b[38;5;132;01m{\u001b[39;00m\u001b[43mfold\u001b[49m\u001b[38;5;250m \u001b[39m\u001b[38;5;241m+\u001b[39m\u001b[38;5;250m \u001b[39m\u001b[38;5;241m1\u001b[39m\u001b[38;5;132;01m}\u001b[39;00m\u001b[38;5;124m:\u001b[39m\u001b[38;5;124m'\u001b[39m)\n\u001b[0;32m     29\u001b[0m     \u001b[38;5;28mprint\u001b[39m(confusion)\n\u001b[0;32m     31\u001b[0m \u001b[38;5;66;03m# Calculate and print the mean and standard deviation of metrics\u001b[39;00m\n",
      "\u001b[1;31mNameError\u001b[0m: name 'fold' is not defined"
     ]
    }
   ],
   "source": [
    "\n",
    "\n",
    "from sklearn.metrics import accuracy_score, precision_score, recall_score, f1_score\n",
    "\n",
    "# Perform stratified cross-validation\n",
    "for train_index, test_index in stratified_kfold.split(X, y):\n",
    "    X_train, X_test = X.iloc[train_index], X.iloc[test_index]\n",
    "    y_train, y_test = y.iloc[train_index], y.iloc[test_index]\n",
    "\n",
    "    # Create and fit the k-NN model\n",
    "    knn_model = KNeighborsClassifier(n_neighbors=4)\n",
    "    knn_model.fit(X_train, y_train)\n",
    "\n",
    "    # Make predictions\n",
    "    y_pred = knn_model.predict(X_test)\n",
    "\n",
    "    # Calculate metrics for the fold\n",
    "    accuracy = accuracy_score(y_test, y_pred)\n",
    "    precision = precision_score(y_test, y_pred, average='micro')\n",
    "    recall = recall_score(y_test, y_pred, average='micro')\n",
    "    f1 = f1_score(y_test, y_pred, average='micro')\n",
    "\n",
    "    # Store fold-wise metrics\n",
    "    accuracy_scores.append(accuracy)\n",
    "    precision_scores.append(precision)\n",
    "    recall_scores.append(recall)\n",
    "    f1_scores.append(f1)\n",
    "    \n",
    "    confusion = confusion_matrix(y_test, y_pred)\n",
    "    print(f'Confusion Matrix for Fold {fold + 1}:')\n",
    "    print(confusion)\n",
    "\n",
    "# Calculate and print the mean and standard deviation of metrics\n",
    "print(\"Mean Accuracy =\", np.mean(accuracy_scores))\n",
    "print(\"Mean Precision =\", np.mean(precision_scores))\n",
    "print(\"Mean Recall =\", np.mean(recall_scores))\n",
    "print(\"Mean F1-score =\", np.mean(f1_scores))\n",
    "\n",
    "print(\"Standard Deviation Accuracy =\", np.std(accuracy_scores))\n",
    "print(\"Standard Deviation Precision =\", np.std(precision_scores))\n",
    "print(\"Standard Deviation Recall =\", np.std(recall_scores))\n",
    "print(\"Standard Deviation F1-score =\", np.std(f1_scores))\n",
    "\n",
    "# confusion = confusion_matrix(y, y_pred)\n",
    "# print('Confusion Matrix:')\n",
    "# print(confusion)\n"
   ]
  },
  {
   "cell_type": "code",
   "execution_count": null,
   "id": "776ea2fd-a411-45a1-9e0c-59a674c2d28d",
   "metadata": {},
   "outputs": [],
   "source": []
  },
  {
   "cell_type": "code",
   "execution_count": null,
   "id": "954884e0-ec23-4d1a-b36a-85496cb87437",
   "metadata": {},
   "outputs": [],
   "source": [
    "# data set had negative value, using log transform to make positive and Adding 1 in X, to prevent log value as infinite\n",
    "from sklearn.feature_selection import SelectKBest\n",
    "from sklearn.feature_selection import chi2\n",
    "\n",
    "X_log_transformed = np.log1p(X + 1)\n",
    "\n",
    "kbest = SelectKBest(score_func=chi2, k=5)\n",
    "X_new = kbest.fit_transform(X_log_transformed, y)\n",
    "\n",
    "feature_scores = kbest.scores_\n",
    "print(\"Feature Importance Scores:\")\n",
    "print(feature_scores)"
   ]
  },
  {
   "cell_type": "code",
   "execution_count": null,
   "id": "0babddfe-448b-439a-9a51-7bb3017df528",
   "metadata": {},
   "outputs": [],
   "source": [
    "from sklearn.model_selection import learning_curve\n",
    "\n",
    "train_sizes, train_scores, test_scores = learning_curve(knn, X, y, cv=5, train_sizes=np.linspace(0.1, 1.0, 10))\n",
    "\n",
    "plt.figure()\n",
    "plt.plot(train_sizes, np.mean(train_scores, axis=1), 'o-', label=\"Training score\")\n",
    "plt.plot(train_sizes, np.mean(test_scores, axis=1), 'o-', label=\"Cross-validation score\")\n",
    "plt.xlabel(\"Training examples\")\n",
    "plt.ylabel(\"Score\")\n",
    "plt.title(\"Learning Curve\")\n",
    "plt.legend(loc=\"best\")\n",
    "plt.show()"
   ]
  }
 ],
 "metadata": {
  "kernelspec": {
   "display_name": "Python 3 (ipykernel)",
   "language": "python",
   "name": "python3"
  },
  "language_info": {
   "codemirror_mode": {
    "name": "ipython",
    "version": 3
   },
   "file_extension": ".py",
   "mimetype": "text/x-python",
   "name": "python",
   "nbconvert_exporter": "python",
   "pygments_lexer": "ipython3",
   "version": "3.11.0"
  }
 },
 "nbformat": 4,
 "nbformat_minor": 5
}
